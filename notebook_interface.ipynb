{
  "cells": [
    {
      "cell_type": "code",
      "execution_count": null,
      "metadata": {},
      "outputs": [],
      "source": [
        "from core_builder_module import ExtendedWarbandRoster\n",
        "from trench_data import all_factions_data\n",
        "\n",
        "factions = list(all_factions_data.keys())\n",
        "selected_index = 0  # Change index to select a different faction\n",
        "selected_faction = factions[selected_index]\n",
        "builder = ExtendedWarbandRoster(all_factions_data[selected_faction])\n",
        "print(f\"Faction: {selected_faction}\")\n",
        "\n",
        "# Example actions\n",
        "print(builder.add_unit(\"1 Heretic Priest\"))\n",
        "print(builder.add_power(\"INFILTRATOR\"))\n",
        "print(builder.summary())\n",
        "\n",
        "# Validation\n",
        "for msg in builder.validate():\n",
        "    print(\"-\", msg)"
      ]
    }
  ],
  "metadata": {
    "kernelspec": {
      "display_name": "Python 3",
      "language": "python",
      "name": "python3"
    }
  },
  "nbformat": 4,
  "nbformat_minor": 2
}